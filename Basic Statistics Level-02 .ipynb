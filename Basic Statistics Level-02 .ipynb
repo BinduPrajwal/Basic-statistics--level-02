{
 "cells": [
  {
   "cell_type": "markdown",
   "id": "2253595e",
   "metadata": {},
   "source": [
    "# Set-01"
   ]
  },
  {
   "cell_type": "code",
   "execution_count": 39,
   "id": "b6223b25",
   "metadata": {},
   "outputs": [],
   "source": [
    "from scipy import stats\n",
    "from scipy.stats import norm\n",
    "import numpy as np\n",
    "import matplotlib.pyplot as plt"
   ]
  },
  {
   "cell_type": "raw",
   "id": "c02d451b",
   "metadata": {},
   "source": [
    "Question 1)"
   ]
  },
  {
   "cell_type": "code",
   "execution_count": 34,
   "id": "84e6f98b",
   "metadata": {},
   "outputs": [
    {
     "data": {
      "text/plain": [
       "array([24.23, 25.53, 25.41, 24.14, 29.62, 28.25, 25.81, 24.39, 40.26,\n",
       "       32.95, 91.36, 25.99, 39.42, 26.71, 35.  ])"
      ]
     },
     "execution_count": 34,
     "metadata": {},
     "output_type": "execute_result"
    }
   ],
   "source": [
    "X=np.array([24.23,25.53,25.41,24.14,29.62,28.25,25.81,24.39,40.26,32.95,91.36,25.99,39.42,26.71,35.00])\n",
    "X"
   ]
  },
  {
   "cell_type": "code",
   "execution_count": 36,
   "id": "d034170f",
   "metadata": {},
   "outputs": [
    {
     "data": {
      "text/plain": [
       "33.27133333333333"
      ]
     },
     "execution_count": 36,
     "metadata": {},
     "output_type": "execute_result"
    }
   ],
   "source": [
    "X.mean()"
   ]
  },
  {
   "cell_type": "code",
   "execution_count": 31,
   "id": "bda420f3",
   "metadata": {},
   "outputs": [
    {
     "data": {
      "text/plain": [
       "16.370812590976932"
      ]
     },
     "execution_count": 31,
     "metadata": {},
     "output_type": "execute_result"
    }
   ],
   "source": [
    "X.std()"
   ]
  },
  {
   "cell_type": "code",
   "execution_count": 37,
   "id": "67019129",
   "metadata": {},
   "outputs": [
    {
     "data": {
      "text/plain": [
       "268.00350488888887"
      ]
     },
     "execution_count": 37,
     "metadata": {},
     "output_type": "execute_result"
    }
   ],
   "source": [
    "X.var()"
   ]
  },
  {
   "cell_type": "code",
   "execution_count": 40,
   "id": "a93c9242",
   "metadata": {},
   "outputs": [
    {
     "data": {
      "text/plain": [
       "Text(0, 0.5, 'Measure X')"
      ]
     },
     "execution_count": 40,
     "metadata": {},
     "output_type": "execute_result"
    },
    {
     "data": {
      "image/png": "[encoded data removed]",
      "text/plain": [
       "<Figure size 640x480 with 1 Axes>"
      ]
     },
     "metadata": {},
     "output_type": "display_data"
    }
   ],
   "source": [
    "plt.boxplot(X,vert=False)\n",
    "plt.title(\"Boxplot\")\n",
    "plt.ylabel(\"Measure X\")"
   ]
  },
  {
   "cell_type": "markdown",
   "id": "9537163c",
   "metadata": {},
   "source": [
    "# Set-02"
   ]
  },
  {
   "cell_type": "raw",
   "id": "4d9c8238",
   "metadata": {},
   "source": [
    "Question 2)\n",
    "Solution:-Statement A is false and B is true."
   ]
  },
  {
   "cell_type": "code",
   "execution_count": 2,
   "id": "95b3d8d3",
   "metadata": {},
   "outputs": [
    {
     "data": {
      "text/plain": [
       "0.15865525393145707"
      ]
     },
     "execution_count": 2,
     "metadata": {},
     "output_type": "execute_result"
    }
   ],
   "source": [
    "1-stats.norm.cdf(44,loc=38,scale=6)"
   ]
  },
  {
   "cell_type": "code",
   "execution_count": 3,
   "id": "4a174be1",
   "metadata": {},
   "outputs": [
    {
     "data": {
      "text/plain": [
       "0.3413447460685429"
      ]
     },
     "execution_count": 3,
     "metadata": {},
     "output_type": "execute_result"
    }
   ],
   "source": [
    "stats.norm.cdf(44,38,6)-stats.norm.cdf(38,38,6)"
   ]
  },
  {
   "cell_type": "code",
   "execution_count": 4,
   "id": "d0d7e945",
   "metadata": {},
   "outputs": [
    {
     "data": {
      "text/plain": [
       "0.09121121972586788"
      ]
     },
     "execution_count": 4,
     "metadata": {},
     "output_type": "execute_result"
    }
   ],
   "source": [
    "stats.norm.cdf(30,38,6)"
   ]
  },
  {
   "cell_type": "code",
   "execution_count": 5,
   "id": "a4f2621a",
   "metadata": {},
   "outputs": [
    {
     "data": {
      "text/plain": [
       "36.484487890347154"
      ]
     },
     "execution_count": 5,
     "metadata": {},
     "output_type": "execute_result"
    }
   ],
   "source": [
    "400*stats.norm.cdf(30,38,6)"
   ]
  },
  {
   "cell_type": "raw",
   "id": "4d80039d",
   "metadata": {},
   "source": [
    "Question 4)"
   ]
  },
  {
   "cell_type": "code",
   "execution_count": 6,
   "id": "1e8b498c",
   "metadata": {},
   "outputs": [
    {
     "data": {
      "text/plain": [
       "(48.48341392902199, 151.516586070978)"
      ]
     },
     "execution_count": 6,
     "metadata": {},
     "output_type": "execute_result"
    }
   ],
   "source": [
    "stats.norm.interval(0.99,100,20)"
   ]
  },
  {
   "cell_type": "code",
   "execution_count": 7,
   "id": "0536b7e2",
   "metadata": {},
   "outputs": [
    {
     "data": {
      "text/plain": [
       "-2.575829303548901"
      ]
     },
     "execution_count": 7,
     "metadata": {},
     "output_type": "execute_result"
    }
   ],
   "source": [
    "stats.norm.ppf(0.005)"
   ]
  },
  {
   "cell_type": "code",
   "execution_count": 8,
   "id": "169b549c",
   "metadata": {},
   "outputs": [
    {
     "data": {
      "text/plain": [
       "2.5758293035489004"
      ]
     },
     "execution_count": 8,
     "metadata": {},
     "output_type": "execute_result"
    }
   ],
   "source": [
    "stats.norm.ppf(0.995)"
   ]
  },
  {
   "cell_type": "raw",
   "id": "c47d4f8a",
   "metadata": {},
   "source": [
    "Question 5)"
   ]
  },
  {
   "cell_type": "code",
   "execution_count": 10,
   "id": "27c1d0c7",
   "metadata": {},
   "outputs": [
    {
     "name": "stdout",
     "output_type": "stream",
     "text": [
      "Mean Profit is Rs 540 Million\n"
     ]
    }
   ],
   "source": [
    "#A)\n",
    "Mean = 5+7\n",
    "print('Mean Profit is Rs', Mean*45,'Million')"
   ]
  },
  {
   "cell_type": "code",
   "execution_count": 11,
   "id": "0496c264",
   "metadata": {},
   "outputs": [
    {
     "name": "stdout",
     "output_type": "stream",
     "text": [
      "Standard Deviation is Rs 225.0 Million\n"
     ]
    }
   ],
   "source": [
    "SD = np.sqrt((9)+(16))\n",
    "print('Standard Deviation is Rs', SD*45, 'Million')"
   ]
  },
  {
   "cell_type": "code",
   "execution_count": 12,
   "id": "46944ad9",
   "metadata": {},
   "outputs": [
    {
     "name": "stdout",
     "output_type": "stream",
     "text": [
      "Range is Rs (99.00810347848784, 980.9918965215122) in Millions\n"
     ]
    }
   ],
   "source": [
    "print('Range is Rs',(stats.norm.interval(0.95,540,225)),'in Millions')"
   ]
  },
  {
   "cell_type": "code",
   "execution_count": 13,
   "id": "dc08790c",
   "metadata": {},
   "outputs": [
    {
     "data": {
      "text/plain": [
       "-1.6448536269514729"
      ]
     },
     "execution_count": 13,
     "metadata": {},
     "output_type": "execute_result"
    }
   ],
   "source": [
    "#B)\n",
    "stats.norm.ppf(0.05)"
   ]
  },
  {
   "cell_type": "code",
   "execution_count": 14,
   "id": "240b31d4",
   "metadata": {},
   "outputs": [
    {
     "name": "stdout",
     "output_type": "stream",
     "text": [
      "5th percentile of the profit is 169.90875 million\n"
     ]
    }
   ],
   "source": [
    "X=540-(1.64485*225)\n",
    "print(\"5th percentile of the profit is\",X,\"million\")\n"
   ]
  },
  {
   "cell_type": "code",
   "execution_count": 15,
   "id": "d33c21ec",
   "metadata": {},
   "outputs": [
    {
     "data": {
      "text/plain": [
       "0.0477903522728147"
      ]
     },
     "execution_count": 15,
     "metadata": {},
     "output_type": "execute_result"
    }
   ],
   "source": [
    "#C)\n",
    "stats.norm.cdf(0,5,3)"
   ]
  },
  {
   "cell_type": "code",
   "execution_count": 17,
   "id": "9f326ea1",
   "metadata": {},
   "outputs": [
    {
     "data": {
      "text/plain": [
       "0.040059156863817086"
      ]
     },
     "execution_count": 17,
     "metadata": {},
     "output_type": "execute_result"
    }
   ],
   "source": [
    "stats.norm.cdf(0,7,4)"
   ]
  },
  {
   "cell_type": "raw",
   "id": "b66d55a1",
   "metadata": {},
   "source": [
    "Profit2 has a larger probability of making a loss in a given year."
   ]
  },
  {
   "cell_type": "markdown",
   "id": "2d2414fc",
   "metadata": {},
   "source": [
    "# Set-03"
   ]
  },
  {
   "cell_type": "raw",
   "id": "85950b8e",
   "metadata": {},
   "source": [
    "Question 4)"
   ]
  },
  {
   "cell_type": "code",
   "execution_count": 18,
   "id": "172a835c",
   "metadata": {},
   "outputs": [
    {
     "data": {
      "text/plain": [
       "0.5"
      ]
     },
     "execution_count": 18,
     "metadata": {},
     "output_type": "execute_result"
    }
   ],
   "source": [
    "stats.norm.cdf(0)"
   ]
  },
  {
   "cell_type": "raw",
   "id": "d572a773",
   "metadata": {},
   "source": [
    "Question 5)"
   ]
  },
  {
   "cell_type": "code",
   "execution_count": 19,
   "id": "270ad92e",
   "metadata": {},
   "outputs": [
    {
     "data": {
      "text/plain": [
       "0.6554003727810325"
      ]
     },
     "execution_count": 19,
     "metadata": {},
     "output_type": "execute_result"
    }
   ],
   "source": [
    "stats.t.cdf(5,1999,loc=4.6)"
   ]
  },
  {
   "cell_type": "raw",
   "id": "0314af9a",
   "metadata": {},
   "source": [
    "P(z<5) is 65.54% thus Microsoft can conclude that Mozilla has less than \n",
    "5% share of the market."
   ]
  },
  {
   "cell_type": "code",
   "execution_count": 20,
   "id": "ba902c25",
   "metadata": {},
   "outputs": [
    {
     "data": {
      "text/plain": [
       "0.6554217416103243"
      ]
     },
     "execution_count": 20,
     "metadata": {},
     "output_type": "execute_result"
    }
   ],
   "source": [
    "stats.norm.cdf(5,loc=4.6)"
   ]
  },
  {
   "cell_type": "raw",
   "id": "c26303d5",
   "metadata": {},
   "source": [
    "so P(Z<5) is 65.54% thus microsoft can conclude that mozilla has\n",
    "less than 5% share of market."
   ]
  },
  {
   "cell_type": "raw",
   "id": "37ef651a",
   "metadata": {},
   "source": [
    "Question 7)"
   ]
  },
  {
   "cell_type": "code",
   "execution_count": 21,
   "id": "15bfc221",
   "metadata": {},
   "outputs": [
    {
     "data": {
      "text/plain": [
       "(-1.959963984540054, 1.959963984540054)"
      ]
     },
     "execution_count": 21,
     "metadata": {},
     "output_type": "execute_result"
    }
   ],
   "source": [
    "stats.norm.interval(0.95)"
   ]
  },
  {
   "cell_type": "code",
   "execution_count": 22,
   "id": "ab9ac619",
   "metadata": {},
   "outputs": [
    {
     "data": {
      "text/plain": [
       "(-2.2281388519649385, 2.2281388519649385)"
      ]
     },
     "execution_count": 22,
     "metadata": {},
     "output_type": "execute_result"
    }
   ],
   "source": [
    "stats.t.interval(0.95,10)"
   ]
  },
  {
   "cell_type": "raw",
   "id": "c989596b",
   "metadata": {},
   "source": [
    "Z interval is shorter if we have samples less than 30 and the interval start increasing\n",
    "and becomes equal for both the distributions for the larger samples"
   ]
  },
  {
   "cell_type": "raw",
   "id": "f83b1d9e",
   "metadata": {},
   "source": [
    "Question 8)"
   ]
  },
  {
   "cell_type": "code",
   "execution_count": 23,
   "id": "b54b0d1f",
   "metadata": {},
   "outputs": [
    {
     "data": {
      "text/plain": [
       "(-1.959963984540054, 1.959963984540054)"
      ]
     },
     "execution_count": 23,
     "metadata": {},
     "output_type": "execute_result"
    }
   ],
   "source": [
    "stats.norm.interval(0.95)"
   ]
  },
  {
   "cell_type": "code",
   "execution_count": 24,
   "id": "0c938cba",
   "metadata": {},
   "outputs": [
    {
     "data": {
      "text/plain": [
       "(-2.3263478740408408, 2.3263478740408408)"
      ]
     },
     "execution_count": 24,
     "metadata": {},
     "output_type": "execute_result"
    }
   ],
   "source": [
    "stats.norm.interval(0.98)"
   ]
  },
  {
   "cell_type": "markdown",
   "id": "aa675120",
   "metadata": {},
   "source": [
    "# Set-04"
   ]
  },
  {
   "cell_type": "raw",
   "id": "77f3dbae",
   "metadata": {},
   "source": [
    "Question 3)"
   ]
  },
  {
   "cell_type": "code",
   "execution_count": 25,
   "id": "38ff827e",
   "metadata": {},
   "outputs": [
    {
     "data": {
      "text/plain": [
       "0.2112995473337107"
      ]
     },
     "execution_count": 25,
     "metadata": {},
     "output_type": "execute_result"
    }
   ],
   "source": [
    "1-(stats.norm.cdf(55,loc=50,scale=40/100**0.5)-stats.norm.cdf(45,loc=50,scale=40/100**0.5))"
   ]
  },
  {
   "cell_type": "code",
   "execution_count": 26,
   "id": "fa49033c",
   "metadata": {},
   "outputs": [
    {
     "data": {
      "text/plain": [
       "0.2142463375683865"
      ]
     },
     "execution_count": 26,
     "metadata": {},
     "output_type": "execute_result"
    }
   ],
   "source": [
    "1-stats.t.cdf(55,99,loc=50,scale=40/100**0.5)+stats.t.cdf(45,99,loc=50,scale=40/100**0.5)"
   ]
  },
  {
   "cell_type": "raw",
   "id": "abf01d73",
   "metadata": {},
   "source": [
    "There is 21.42% probability that there will be investigation in any given week."
   ]
  },
  {
   "cell_type": "raw",
   "id": "679a5d72",
   "metadata": {},
   "source": [
    "Question 4)"
   ]
  },
  {
   "cell_type": "code",
   "execution_count": 27,
   "id": "83d68b75",
   "metadata": {},
   "outputs": [
    {
     "data": {
      "text/plain": [
       "(45.01742205006828, 54.98257794993172)"
      ]
     },
     "execution_count": 27,
     "metadata": {},
     "output_type": "execute_result"
    }
   ],
   "source": [
    "stats.t.interval(0.95,249,loc=50,scale=40/250**0.5)"
   ]
  },
  {
   "cell_type": "raw",
   "id": "f39c046d",
   "metadata": {},
   "source": [
    "Minimum number of transaction needed are 250 as it ensures that there is 95% probability that lies in range of 45 to 55 or 5% chance of investigation."
   ]
  },
  {
   "cell_type": "code",
   "execution_count": 28,
   "id": "316085f4",
   "metadata": {},
   "outputs": [
    {
     "data": {
      "text/plain": [
       "0.9507896016013059"
      ]
     },
     "execution_count": 28,
     "metadata": {},
     "output_type": "execute_result"
    }
   ],
   "source": [
    "stats.t.cdf(55,249,loc=50,scale=40/250**0.5)-stats.t.cdf(45,249,loc=50,scale=40/250**0.5)"
   ]
  }
 ],
 "metadata": {
  "kernelspec": {
   "display_name": "Python 3 (ipykernel)",
   "language": "python",
   "name": "python3"
  },
  "language_info": {
   "codemirror_mode": {
    "name": "ipython",
    "version": 3
   },
   "file_extension": ".py",
   "mimetype": "text/x-python",
   "name": "python",
   "nbconvert_exporter": "python",
   "pygments_lexer": "ipython3",
   "version": "3.9.13"
  }
 },
 "nbformat": 4,
 "nbformat_minor": 5
}
